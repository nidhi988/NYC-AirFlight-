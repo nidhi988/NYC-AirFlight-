{
 "cells": [
  {
   "cell_type": "markdown",
   "metadata": {},
   "source": [
    "# NYC flight usecase using pyspark"
   ]
  },
  {
   "cell_type": "code",
   "execution_count": null,
   "metadata": {},
   "outputs": [],
   "source": [
    "from pyspark.sql import SparkSession\n",
    "from pyspark.sql.types import *\n",
    "sqlContext=SQLContext(sc)"
   ]
  },
  {
   "cell_type": "code",
   "execution_count": null,
   "metadata": {},
   "outputs": [],
   "source": [
    "df=sqlContext.read.load('F:/flights.csv',format='com.databricks.spark.csv',header='True',inferschema='true',nullvalue='NA')"
   ]
  },
  {
   "cell_type": "code",
   "execution_count": null,
   "metadata": {},
   "outputs": [],
   "source": [
    "df.printSchema()"
   ]
  },
  {
   "cell_type": "code",
   "execution_count": null,
   "metadata": {},
   "outputs": [],
   "source": [
    "#renaming a dest column\n",
    "df1=(df.withColumnRenamed('dest','destination'))\n",
    "df1.printSchema()"
   ]
  },
  {
   "cell_type": "code",
   "execution_count": null,
   "metadata": {},
   "outputs": [],
   "source": [
    "#displaying unique column value given below\n",
    "df2=df1.select(\"flight\",\"origin\",\"distance\",\"destination\").distinct().show()"
   ]
  },
  {
   "cell_type": "code",
   "execution_count": null,
   "metadata": {},
   "outputs": [],
   "source": [
    "#sorting in ascending order\n",
    "from pyspark.sql.functions import asc\n",
    "sorted_df=df1.sort(asc('flight'))\n",
    "sorted_df.show(10)"
   ]
  },
  {
   "cell_type": "code",
   "execution_count": null,
   "metadata": {},
   "outputs": [],
   "source": [
    "#sorting according to asc flight\n",
    "sorted_df2=df1.select('flight','tailnum','carrier','air_time').sort(asc('flight'))\n",
    "sorted_df2.distinct().show()\n",
    "\n",
    "sorted_df2.count()"
   ]
  },
  {
   "cell_type": "code",
   "execution_count": null,
   "metadata": {},
   "outputs": [],
   "source": [
    "#dropping duplicates\n",
    "sorted_df2=sorted_df.dropDuplicates(['carrier','tailnum'])\n",
    "sorted_df2.count()"
   ]
  },
  {
   "cell_type": "code",
   "execution_count": null,
   "metadata": {},
   "outputs": [],
   "source": [
    "#joining according to flight numbers\n",
    "joined_df=sorted_df.join(sorted_df2,sorted_df.flight==sorted_df2.flight)\n"
   ]
  },
  {
   "cell_type": "code",
   "execution_count": null,
   "metadata": {},
   "outputs": [],
   "source": [
    "#using where condition\n",
    "from pyspark.sql.functions import col\n",
    "df_sort=sorted_df.where((col('origin')=='JPK')|(col('origin')=='MCO'))\n",
    "\n",
    "df_sort.show()"
   ]
  },
  {
   "cell_type": "code",
   "execution_count": null,
   "metadata": {},
   "outputs": [],
   "source": [
    "#find aggregated average distance\n",
    "from pyspark.sql.functions import avg\n",
    "df1.agg(avg('distance')).first()"
   ]
  }
 ],
 "metadata": {
  "kernelspec": {
   "display_name": "Python 3",
   "language": "python",
   "name": "python3"
  },
  "language_info": {
   "codemirror_mode": {
    "name": "ipython",
    "version": 3
   },
   "file_extension": ".py",
   "mimetype": "text/x-python",
   "name": "python",
   "nbconvert_exporter": "python",
   "pygments_lexer": "ipython3",
   "version": "3.7.3"
  }
 },
 "nbformat": 4,
 "nbformat_minor": 2
}
